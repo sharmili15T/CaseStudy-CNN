{
 "cells": [
  {
   "cell_type": "code",
   "execution_count": 1,
   "id": "1da84a1a",
   "metadata": {},
   "outputs": [],
   "source": [
    "import keras \n",
    "import tensorflow as ts\n",
    "import numpy as np"
   ]
  },
  {
   "cell_type": "code",
   "execution_count": 2,
   "id": "647236ad",
   "metadata": {},
   "outputs": [],
   "source": [
    "fashion_mnist = ts.keras.datasets.fashion_mnist\n"
   ]
  },
  {
   "cell_type": "code",
   "execution_count": 3,
   "id": "94af1e1e",
   "metadata": {},
   "outputs": [],
   "source": [
    "(train_images, train_labels), (test_images, test_labels) = fashion_mnist.load_data()\n"
   ]
  },
  {
   "cell_type": "code",
   "execution_count": 4,
   "id": "42133258",
   "metadata": {},
   "outputs": [
    {
     "data": {
      "text/plain": [
       "(60000, 28, 28)"
      ]
     },
     "execution_count": 4,
     "metadata": {},
     "output_type": "execute_result"
    }
   ],
   "source": [
    "train_images.shape"
   ]
  },
  {
   "cell_type": "code",
   "execution_count": 5,
   "id": "8cb9f6b2",
   "metadata": {},
   "outputs": [
    {
     "data": {
      "text/plain": [
       "(60000,)"
      ]
     },
     "execution_count": 5,
     "metadata": {},
     "output_type": "execute_result"
    }
   ],
   "source": [
    "train_labels.shape"
   ]
  },
  {
   "cell_type": "code",
   "execution_count": 6,
   "id": "22f84a79",
   "metadata": {},
   "outputs": [
    {
     "data": {
      "text/plain": [
       "(10000, 28, 28)"
      ]
     },
     "execution_count": 6,
     "metadata": {},
     "output_type": "execute_result"
    }
   ],
   "source": [
    "test_images.shape"
   ]
  },
  {
   "cell_type": "code",
   "execution_count": 7,
   "id": "709723f0",
   "metadata": {},
   "outputs": [
    {
     "data": {
      "text/plain": [
       "(10000,)"
      ]
     },
     "execution_count": 7,
     "metadata": {},
     "output_type": "execute_result"
    }
   ],
   "source": [
    "test_labels.shape\n"
   ]
  },
  {
   "cell_type": "code",
   "execution_count": null,
   "id": "bbf08049",
   "metadata": {},
   "outputs": [],
   "source": []
  },
  {
   "cell_type": "markdown",
   "id": "9d384907",
   "metadata": {},
   "source": [
    "#### Visualising images from train and test dataset"
   ]
  },
  {
   "cell_type": "code",
   "execution_count": 8,
   "id": "ea50ffe4",
   "metadata": {},
   "outputs": [],
   "source": [
    "import matplotlib.pyplot as plt"
   ]
  },
  {
   "cell_type": "code",
   "execution_count": 9,
   "id": "f94aa9d5",
   "metadata": {},
   "outputs": [
    {
     "data": {
      "text/plain": [
       "<matplotlib.image.AxesImage at 0x1d8d74e3d90>"
      ]
     },
     "execution_count": 9,
     "metadata": {},
     "output_type": "execute_result"
    },
    {
     "data": {
      "image/png": "[encoded data removed]",
      "text/plain": [
       "<Figure size 432x288 with 1 Axes>"
      ]
     },
     "metadata": {
      "needs_background": "light"
     },
     "output_type": "display_data"
    }
   ],
   "source": [
    "plt.imshow(train_images[8,:,:].reshape(28,28),cmap='gray')"
   ]
  },
  {
   "cell_type": "code",
   "execution_count": 10,
   "id": "617a5d60",
   "metadata": {},
   "outputs": [
    {
     "data": {
      "text/plain": [
       "<matplotlib.image.AxesImage at 0x1d8d75c82e0>"
      ]
     },
     "execution_count": 10,
     "metadata": {},
     "output_type": "execute_result"
    },
    {
     "data": {
      "image/png": "[encoded data removed]",
      "text/plain": [
       "<Figure size 432x288 with 1 Axes>"
      ]
     },
     "metadata": {
      "needs_background": "light"
     },
     "output_type": "display_data"
    }
   ],
   "source": [
    "plt.imshow(test_images[8,:,:].reshape(28,28),cmap='gray')"
   ]
  },
  {
   "cell_type": "code",
   "execution_count": null,
   "id": "4718df87",
   "metadata": {},
   "outputs": [],
   "source": []
  },
  {
   "cell_type": "markdown",
   "id": "c30c6785",
   "metadata": {},
   "source": [
    "#### Scaling the pixel data"
   ]
  },
  {
   "cell_type": "code",
   "execution_count": 11,
   "id": "79f382be",
   "metadata": {},
   "outputs": [],
   "source": [
    "train_images = train_images.reshape((train_images.shape[0], 28 * 28 * 1))\n",
    "test_images = test_images.reshape((test_images.shape[0], 28 * 28 * 1))\n",
    "\n",
    "# scale data to the range of [0, 1]\n",
    "train_images = train_images.astype(\"float32\") / 255.0\n",
    "test_images = test_images.astype(\"float32\") / 255.0"
   ]
  },
  {
   "cell_type": "code",
   "execution_count": 12,
   "id": "21f24904",
   "metadata": {},
   "outputs": [],
   "source": [
    "from sklearn.preprocessing import LabelBinarizer\n",
    "\n",
    "lb = LabelBinarizer()\n",
    "train_labels = lb.fit_transform(train_labels)\n",
    "test_labels = lb.transform(test_labels)"
   ]
  },
  {
   "cell_type": "code",
   "execution_count": null,
   "id": "ca969162",
   "metadata": {},
   "outputs": [],
   "source": []
  },
  {
   "cell_type": "markdown",
   "id": "29268150",
   "metadata": {},
   "source": [
    "#### Feed Forward architecture"
   ]
  },
  {
   "cell_type": "code",
   "execution_count": 13,
   "id": "158a743e",
   "metadata": {},
   "outputs": [],
   "source": [
    "from tensorflow.keras.models import Sequential\n",
    "from tensorflow.keras.layers import Dense\n",
    "from tensorflow.keras.optimizers import SGD"
   ]
  },
  {
   "cell_type": "code",
   "execution_count": 14,
   "id": "99b17317",
   "metadata": {},
   "outputs": [],
   "source": [
    "model = Sequential()\n",
    "model.add(Dense(64, input_shape=(784,), activation=\"relu\"))\n",
    "model.add(Dense(32, activation=\"relu\"))\n",
    "model.add(Dense(10, activation=\"softmax\"))"
   ]
  },
  {
   "cell_type": "markdown",
   "id": "2660bc63",
   "metadata": {},
   "source": [
    "Softmax Activation Function is used here as we should not use activation functions like sigmoid or tanh in the multiclass classification problems. "
   ]
  },
  {
   "cell_type": "markdown",
   "id": "965f1515",
   "metadata": {},
   "source": [
    "#### Training data and Training label"
   ]
  },
  {
   "cell_type": "code",
   "execution_count": 15,
   "id": "09777370",
   "metadata": {},
   "outputs": [
    {
     "name": "stdout",
     "output_type": "stream",
     "text": [
      "Epoch 1/100\n",
      "48/48 [==============================] - 1s 13ms/step - loss: 1.9460 - accuracy: 0.4110 - val_loss: 1.6405 - val_accuracy: 0.5732\n",
      "Epoch 2/100\n",
      "48/48 [==============================] - 0s 9ms/step - loss: 1.4443 - accuracy: 0.6260 - val_loss: 1.2497 - val_accuracy: 0.6711\n",
      "Epoch 3/100\n",
      "48/48 [==============================] - 0s 9ms/step - loss: 1.1452 - accuracy: 0.6850 - val_loss: 1.0335 - val_accuracy: 0.7108\n",
      "Epoch 4/100\n",
      "48/48 [==============================] - 1s 14ms/step - loss: 0.9805 - accuracy: 0.7170 - val_loss: 0.9117 - val_accuracy: 0.7343\n",
      "Epoch 5/100\n",
      "48/48 [==============================] - 1s 12ms/step - loss: 0.8829 - accuracy: 0.7356 - val_loss: 0.8362 - val_accuracy: 0.7512\n",
      "Epoch 6/100\n",
      "48/48 [==============================] - 0s 9ms/step - loss: 0.8188 - accuracy: 0.7494 - val_loss: 0.7836 - val_accuracy: 0.7623\n",
      "Epoch 7/100\n",
      "48/48 [==============================] - 1s 12ms/step - loss: 0.7724 - accuracy: 0.7604 - val_loss: 0.7449 - val_accuracy: 0.7649\n",
      "Epoch 8/100\n",
      "48/48 [==============================] - 1s 11ms/step - loss: 0.7371 - accuracy: 0.7673 - val_loss: 0.7150 - val_accuracy: 0.7738\n",
      "Epoch 9/100\n",
      "48/48 [==============================] - 1s 11ms/step - loss: 0.7088 - accuracy: 0.7743 - val_loss: 0.6897 - val_accuracy: 0.7770\n",
      "Epoch 10/100\n",
      "48/48 [==============================] - 1s 12ms/step - loss: 0.6852 - accuracy: 0.7796 - val_loss: 0.6700 - val_accuracy: 0.7848\n",
      "Epoch 11/100\n",
      "48/48 [==============================] - 0s 9ms/step - loss: 0.6654 - accuracy: 0.7857 - val_loss: 0.6525 - val_accuracy: 0.7839\n",
      "Epoch 12/100\n",
      "48/48 [==============================] - 1s 11ms/step - loss: 0.6481 - accuracy: 0.7900 - val_loss: 0.6365 - val_accuracy: 0.7906\n",
      "Epoch 13/100\n",
      "48/48 [==============================] - 0s 10ms/step - loss: 0.6332 - accuracy: 0.7942 - val_loss: 0.6231 - val_accuracy: 0.7949\n",
      "Epoch 14/100\n",
      "48/48 [==============================] - 1s 12ms/step - loss: 0.6198 - accuracy: 0.7975 - val_loss: 0.6124 - val_accuracy: 0.7978\n",
      "Epoch 15/100\n",
      "48/48 [==============================] - 0s 10ms/step - loss: 0.6080 - accuracy: 0.8013 - val_loss: 0.6006 - val_accuracy: 0.8023\n",
      "Epoch 16/100\n",
      "48/48 [==============================] - 1s 12ms/step - loss: 0.5973 - accuracy: 0.8029 - val_loss: 0.5909 - val_accuracy: 0.8049\n",
      "Epoch 17/100\n",
      "48/48 [==============================] - 0s 10ms/step - loss: 0.5877 - accuracy: 0.8061 - val_loss: 0.5826 - val_accuracy: 0.8073\n",
      "Epoch 18/100\n",
      "48/48 [==============================] - 0s 9ms/step - loss: 0.5786 - accuracy: 0.8100 - val_loss: 0.5746 - val_accuracy: 0.8103\n",
      "Epoch 19/100\n",
      "48/48 [==============================] - 0s 10ms/step - loss: 0.5705 - accuracy: 0.8120 - val_loss: 0.5670 - val_accuracy: 0.8117\n",
      "Epoch 20/100\n",
      "48/48 [==============================] - 0s 10ms/step - loss: 0.5629 - accuracy: 0.8139 - val_loss: 0.5607 - val_accuracy: 0.8139\n",
      "Epoch 21/100\n",
      "48/48 [==============================] - 0s 10ms/step - loss: 0.5559 - accuracy: 0.8153 - val_loss: 0.5539 - val_accuracy: 0.8152\n",
      "Epoch 22/100\n",
      "48/48 [==============================] - 1s 12ms/step - loss: 0.5493 - accuracy: 0.8180 - val_loss: 0.5494 - val_accuracy: 0.8158\n",
      "Epoch 23/100\n",
      "48/48 [==============================] - 0s 10ms/step - loss: 0.5432 - accuracy: 0.8197 - val_loss: 0.5429 - val_accuracy: 0.8188\n",
      "Epoch 24/100\n",
      "48/48 [==============================] - 0s 10ms/step - loss: 0.5375 - accuracy: 0.8212 - val_loss: 0.5375 - val_accuracy: 0.8207\n",
      "Epoch 25/100\n",
      "48/48 [==============================] - 0s 10ms/step - loss: 0.5322 - accuracy: 0.8229 - val_loss: 0.5328 - val_accuracy: 0.8205\n",
      "Epoch 26/100\n",
      "48/48 [==============================] - 0s 10ms/step - loss: 0.5274 - accuracy: 0.8237 - val_loss: 0.5296 - val_accuracy: 0.8217\n",
      "Epoch 27/100\n",
      "48/48 [==============================] - 0s 10ms/step - loss: 0.5226 - accuracy: 0.8255 - val_loss: 0.5243 - val_accuracy: 0.8225\n",
      "Epoch 28/100\n",
      "48/48 [==============================] - 1s 11ms/step - loss: 0.5183 - accuracy: 0.8264 - val_loss: 0.5206 - val_accuracy: 0.8232\n",
      "Epoch 29/100\n",
      "48/48 [==============================] - 1s 11ms/step - loss: 0.5138 - accuracy: 0.8275 - val_loss: 0.5171 - val_accuracy: 0.8248\n",
      "Epoch 30/100\n",
      "48/48 [==============================] - 1s 10ms/step - loss: 0.5100 - accuracy: 0.8284 - val_loss: 0.5127 - val_accuracy: 0.8266\n",
      "Epoch 31/100\n",
      "48/48 [==============================] - 1s 11ms/step - loss: 0.5063 - accuracy: 0.8292 - val_loss: 0.5092 - val_accuracy: 0.8271\n",
      "Epoch 32/100\n",
      "48/48 [==============================] - 0s 10ms/step - loss: 0.5026 - accuracy: 0.8303 - val_loss: 0.5074 - val_accuracy: 0.8285\n",
      "Epoch 33/100\n",
      "48/48 [==============================] - 1s 11ms/step - loss: 0.4992 - accuracy: 0.8313 - val_loss: 0.5049 - val_accuracy: 0.8270\n",
      "Epoch 34/100\n",
      "48/48 [==============================] - 0s 10ms/step - loss: 0.4961 - accuracy: 0.8322 - val_loss: 0.5010 - val_accuracy: 0.8292\n",
      "Epoch 35/100\n",
      "48/48 [==============================] - 0s 10ms/step - loss: 0.4932 - accuracy: 0.8325 - val_loss: 0.4973 - val_accuracy: 0.8296\n",
      "Epoch 36/100\n",
      "48/48 [==============================] - 1s 10ms/step - loss: 0.4897 - accuracy: 0.8341 - val_loss: 0.4951 - val_accuracy: 0.8294\n",
      "Epoch 37/100\n",
      "48/48 [==============================] - 1s 11ms/step - loss: 0.4871 - accuracy: 0.8347 - val_loss: 0.4929 - val_accuracy: 0.8305\n",
      "Epoch 38/100\n",
      "48/48 [==============================] - 0s 10ms/step - loss: 0.4843 - accuracy: 0.8357 - val_loss: 0.4901 - val_accuracy: 0.8322\n",
      "Epoch 39/100\n",
      "48/48 [==============================] - 0s 10ms/step - loss: 0.4817 - accuracy: 0.8366 - val_loss: 0.4889 - val_accuracy: 0.8307\n",
      "Epoch 40/100\n",
      "48/48 [==============================] - 1s 11ms/step - loss: 0.4794 - accuracy: 0.8374 - val_loss: 0.4850 - val_accuracy: 0.8323\n",
      "Epoch 41/100\n",
      "48/48 [==============================] - 0s 10ms/step - loss: 0.4771 - accuracy: 0.8375 - val_loss: 0.4833 - val_accuracy: 0.8345\n",
      "Epoch 42/100\n",
      "48/48 [==============================] - 0s 10ms/step - loss: 0.4750 - accuracy: 0.8379 - val_loss: 0.4808 - val_accuracy: 0.8351\n",
      "Epoch 43/100\n",
      "48/48 [==============================] - 0s 10ms/step - loss: 0.4728 - accuracy: 0.8390 - val_loss: 0.4786 - val_accuracy: 0.8333\n",
      "Epoch 44/100\n",
      "48/48 [==============================] - 0s 10ms/step - loss: 0.4702 - accuracy: 0.8395 - val_loss: 0.4775 - val_accuracy: 0.8343\n",
      "Epoch 45/100\n",
      "48/48 [==============================] - 0s 9ms/step - loss: 0.4682 - accuracy: 0.8396 - val_loss: 0.4752 - val_accuracy: 0.8349\n",
      "Epoch 46/100\n",
      "48/48 [==============================] - 0s 10ms/step - loss: 0.4660 - accuracy: 0.8400 - val_loss: 0.4738 - val_accuracy: 0.8356\n",
      "Epoch 47/100\n",
      "48/48 [==============================] - 0s 10ms/step - loss: 0.4642 - accuracy: 0.8407 - val_loss: 0.4725 - val_accuracy: 0.8361\n",
      "Epoch 48/100\n",
      "48/48 [==============================] - 1s 11ms/step - loss: 0.4625 - accuracy: 0.8414 - val_loss: 0.4705 - val_accuracy: 0.8363\n",
      "Epoch 49/100\n",
      "48/48 [==============================] - 0s 10ms/step - loss: 0.4602 - accuracy: 0.8419 - val_loss: 0.4697 - val_accuracy: 0.8388\n",
      "Epoch 50/100\n",
      "48/48 [==============================] - 0s 10ms/step - loss: 0.4588 - accuracy: 0.8431 - val_loss: 0.4667 - val_accuracy: 0.8370\n",
      "Epoch 51/100\n",
      "48/48 [==============================] - 1s 10ms/step - loss: 0.4568 - accuracy: 0.8435 - val_loss: 0.4652 - val_accuracy: 0.8380\n",
      "Epoch 52/100\n",
      "48/48 [==============================] - 0s 10ms/step - loss: 0.4552 - accuracy: 0.8434 - val_loss: 0.4648 - val_accuracy: 0.8378\n",
      "Epoch 53/100\n",
      "48/48 [==============================] - 0s 10ms/step - loss: 0.4539 - accuracy: 0.8439 - val_loss: 0.4641 - val_accuracy: 0.8367\n",
      "Epoch 54/100\n",
      "48/48 [==============================] - 0s 10ms/step - loss: 0.4524 - accuracy: 0.8443 - val_loss: 0.4609 - val_accuracy: 0.8393\n",
      "Epoch 55/100\n",
      "48/48 [==============================] - 0s 10ms/step - loss: 0.4513 - accuracy: 0.8449 - val_loss: 0.4604 - val_accuracy: 0.8391\n",
      "Epoch 56/100\n",
      "48/48 [==============================] - 0s 10ms/step - loss: 0.4490 - accuracy: 0.8453 - val_loss: 0.4578 - val_accuracy: 0.8415\n",
      "Epoch 57/100\n",
      "48/48 [==============================] - 0s 10ms/step - loss: 0.4481 - accuracy: 0.8450 - val_loss: 0.4578 - val_accuracy: 0.8415\n",
      "Epoch 58/100\n",
      "48/48 [==============================] - 0s 9ms/step - loss: 0.4461 - accuracy: 0.8459 - val_loss: 0.4554 - val_accuracy: 0.8420\n",
      "Epoch 59/100\n",
      "48/48 [==============================] - 0s 9ms/step - loss: 0.4444 - accuracy: 0.8465 - val_loss: 0.4573 - val_accuracy: 0.8414\n",
      "Epoch 60/100\n",
      "48/48 [==============================] - 0s 9ms/step - loss: 0.4435 - accuracy: 0.8469 - val_loss: 0.4532 - val_accuracy: 0.8415\n",
      "Epoch 61/100\n",
      "48/48 [==============================] - 0s 10ms/step - loss: 0.4417 - accuracy: 0.8473 - val_loss: 0.4516 - val_accuracy: 0.8425\n",
      "Epoch 62/100\n",
      "48/48 [==============================] - 1s 11ms/step - loss: 0.4406 - accuracy: 0.8477 - val_loss: 0.4505 - val_accuracy: 0.8438\n",
      "Epoch 63/100\n",
      "48/48 [==============================] - 0s 10ms/step - loss: 0.4395 - accuracy: 0.8482 - val_loss: 0.4497 - val_accuracy: 0.8446\n",
      "Epoch 64/100\n",
      "48/48 [==============================] - 0s 9ms/step - loss: 0.4379 - accuracy: 0.8486 - val_loss: 0.4497 - val_accuracy: 0.8443\n",
      "Epoch 65/100\n",
      "48/48 [==============================] - 0s 9ms/step - loss: 0.4367 - accuracy: 0.8500 - val_loss: 0.4474 - val_accuracy: 0.8457\n",
      "Epoch 66/100\n",
      "48/48 [==============================] - 0s 10ms/step - loss: 0.4355 - accuracy: 0.8497 - val_loss: 0.4481 - val_accuracy: 0.8438\n",
      "Epoch 67/100\n",
      "48/48 [==============================] - 1s 11ms/step - loss: 0.4344 - accuracy: 0.8499 - val_loss: 0.4460 - val_accuracy: 0.8453\n",
      "Epoch 68/100\n",
      "48/48 [==============================] - 0s 9ms/step - loss: 0.4331 - accuracy: 0.8506 - val_loss: 0.4457 - val_accuracy: 0.8462\n",
      "Epoch 69/100\n",
      "48/48 [==============================] - 0s 9ms/step - loss: 0.4320 - accuracy: 0.8509 - val_loss: 0.4429 - val_accuracy: 0.8475\n",
      "Epoch 70/100\n",
      "48/48 [==============================] - 0s 9ms/step - loss: 0.4310 - accuracy: 0.8510 - val_loss: 0.4432 - val_accuracy: 0.8456\n",
      "Epoch 71/100\n",
      "48/48 [==============================] - 0s 9ms/step - loss: 0.4299 - accuracy: 0.8512 - val_loss: 0.4426 - val_accuracy: 0.8468\n",
      "Epoch 72/100\n",
      "48/48 [==============================] - 0s 9ms/step - loss: 0.4290 - accuracy: 0.8519 - val_loss: 0.4413 - val_accuracy: 0.8488\n",
      "Epoch 73/100\n",
      "48/48 [==============================] - 0s 10ms/step - loss: 0.4278 - accuracy: 0.8518 - val_loss: 0.4406 - val_accuracy: 0.8479\n",
      "Epoch 74/100\n",
      "48/48 [==============================] - 0s 9ms/step - loss: 0.4265 - accuracy: 0.8525 - val_loss: 0.4384 - val_accuracy: 0.8499\n",
      "Epoch 75/100\n",
      "48/48 [==============================] - 1s 12ms/step - loss: 0.4256 - accuracy: 0.8526 - val_loss: 0.4382 - val_accuracy: 0.8483\n",
      "Epoch 76/100\n",
      "48/48 [==============================] - 0s 9ms/step - loss: 0.4247 - accuracy: 0.8531 - val_loss: 0.4397 - val_accuracy: 0.8485\n",
      "Epoch 77/100\n",
      "48/48 [==============================] - 0s 10ms/step - loss: 0.4234 - accuracy: 0.8536 - val_loss: 0.4356 - val_accuracy: 0.8494\n",
      "Epoch 78/100\n",
      "48/48 [==============================] - 1s 11ms/step - loss: 0.4223 - accuracy: 0.8537 - val_loss: 0.4348 - val_accuracy: 0.8501\n",
      "Epoch 79/100\n",
      "48/48 [==============================] - 1s 11ms/step - loss: 0.4215 - accuracy: 0.8542 - val_loss: 0.4343 - val_accuracy: 0.8487\n",
      "Epoch 80/100\n",
      "48/48 [==============================] - 1s 11ms/step - loss: 0.4203 - accuracy: 0.8553 - val_loss: 0.4331 - val_accuracy: 0.8495\n",
      "Epoch 81/100\n",
      "48/48 [==============================] - 1s 11ms/step - loss: 0.4196 - accuracy: 0.8551 - val_loss: 0.4327 - val_accuracy: 0.8497\n",
      "Epoch 82/100\n",
      "48/48 [==============================] - 1s 11ms/step - loss: 0.4184 - accuracy: 0.8560 - val_loss: 0.4316 - val_accuracy: 0.8488\n",
      "Epoch 83/100\n",
      "48/48 [==============================] - 1s 12ms/step - loss: 0.4176 - accuracy: 0.8555 - val_loss: 0.4306 - val_accuracy: 0.8503\n",
      "Epoch 84/100\n",
      "48/48 [==============================] - 1s 11ms/step - loss: 0.4166 - accuracy: 0.8560 - val_loss: 0.4357 - val_accuracy: 0.8480\n",
      "Epoch 85/100\n",
      "48/48 [==============================] - 0s 10ms/step - loss: 0.4162 - accuracy: 0.8559 - val_loss: 0.4292 - val_accuracy: 0.8516\n",
      "Epoch 86/100\n",
      "48/48 [==============================] - 0s 10ms/step - loss: 0.4145 - accuracy: 0.8572 - val_loss: 0.4288 - val_accuracy: 0.8530\n",
      "Epoch 87/100\n",
      "48/48 [==============================] - 1s 11ms/step - loss: 0.4140 - accuracy: 0.8576 - val_loss: 0.4290 - val_accuracy: 0.8524\n",
      "Epoch 88/100\n",
      "48/48 [==============================] - 1s 10ms/step - loss: 0.4131 - accuracy: 0.8569 - val_loss: 0.4282 - val_accuracy: 0.8520\n",
      "Epoch 89/100\n",
      "48/48 [==============================] - 1s 11ms/step - loss: 0.4122 - accuracy: 0.8581 - val_loss: 0.4279 - val_accuracy: 0.8518\n",
      "Epoch 90/100\n",
      "48/48 [==============================] - 1s 11ms/step - loss: 0.4114 - accuracy: 0.8582 - val_loss: 0.4267 - val_accuracy: 0.8506\n",
      "Epoch 91/100\n",
      "48/48 [==============================] - 1s 11ms/step - loss: 0.4101 - accuracy: 0.8585 - val_loss: 0.4255 - val_accuracy: 0.8547\n",
      "Epoch 92/100\n",
      "48/48 [==============================] - 0s 10ms/step - loss: 0.4097 - accuracy: 0.8586 - val_loss: 0.4240 - val_accuracy: 0.8527\n",
      "Epoch 93/100\n",
      "48/48 [==============================] - 1s 11ms/step - loss: 0.4093 - accuracy: 0.8583 - val_loss: 0.4259 - val_accuracy: 0.8543\n",
      "Epoch 94/100\n",
      "48/48 [==============================] - 1s 13ms/step - loss: 0.4083 - accuracy: 0.8590 - val_loss: 0.4228 - val_accuracy: 0.8525\n",
      "Epoch 95/100\n",
      "48/48 [==============================] - 1s 15ms/step - loss: 0.4068 - accuracy: 0.8602 - val_loss: 0.4256 - val_accuracy: 0.8532\n",
      "Epoch 96/100\n",
      "48/48 [==============================] - 1s 11ms/step - loss: 0.4067 - accuracy: 0.8586 - val_loss: 0.4213 - val_accuracy: 0.8530\n",
      "Epoch 97/100\n",
      "48/48 [==============================] - 1s 12ms/step - loss: 0.4055 - accuracy: 0.8603 - val_loss: 0.4202 - val_accuracy: 0.8537\n",
      "Epoch 98/100\n",
      "48/48 [==============================] - 1s 13ms/step - loss: 0.4052 - accuracy: 0.8602 - val_loss: 0.4199 - val_accuracy: 0.8561\n",
      "Epoch 99/100\n",
      "48/48 [==============================] - 1s 11ms/step - loss: 0.4042 - accuracy: 0.8609 - val_loss: 0.4207 - val_accuracy: 0.8547\n",
      "Epoch 100/100\n",
      "48/48 [==============================] - 1s 11ms/step - loss: 0.4033 - accuracy: 0.8601 - val_loss: 0.4200 - val_accuracy: 0.8564\n"
     ]
    }
   ],
   "source": [
    "sgd = SGD()\n",
    "model.compile(loss=\"categorical_crossentropy\", optimizer=sgd, metrics=[\"accuracy\"])\n",
    "H = model.fit(train_images, train_labels,epochs=100, batch_size=1000,validation_split= 0.10)"
   ]
  },
  {
   "cell_type": "markdown",
   "id": "cc341107",
   "metadata": {},
   "source": [
    "#### Loss function\n",
    "\n",
    "The loss function used here is the 'categorical_crossentropy'.Cross-entropy is a measure of the difference between two probability distributions for a given random variable or set of events.\n",
    "\n",
    "Cross-entropy builds upon the idea of entropy from information theory and calculates the number of bits required to represent or transmit an average event from one distribution compared to another distribution.\n",
    "\n",
    "The result will be a positive number measured in bits and will be equal to the entropy of the distribution if the two probability distributions are identical.\n"
   ]
  },
  {
   "cell_type": "code",
   "execution_count": null,
   "id": "2effee22",
   "metadata": {},
   "outputs": [],
   "source": []
  },
  {
   "cell_type": "markdown",
   "id": "5e806c0d",
   "metadata": {},
   "source": [
    "#### Summary of the model"
   ]
  },
  {
   "cell_type": "code",
   "execution_count": 16,
   "id": "18c9650e",
   "metadata": {},
   "outputs": [
    {
     "name": "stdout",
     "output_type": "stream",
     "text": [
      "Model: \"sequential\"\n",
      "_________________________________________________________________\n",
      "Layer (type)                 Output Shape              Param #   \n",
      "=================================================================\n",
      "dense (Dense)                (None, 256)               200960    \n",
      "_________________________________________________________________\n",
      "dense_1 (Dense)              (None, 128)               32896     \n",
      "_________________________________________________________________\n",
      "dense_2 (Dense)              (None, 10)                1290      \n",
      "=================================================================\n",
      "Total params: 235,146\n",
      "Trainable params: 235,146\n",
      "Non-trainable params: 0\n",
      "_________________________________________________________________\n"
     ]
    }
   ],
   "source": [
    "model.summary()\n"
   ]
  },
  {
   "cell_type": "markdown",
   "id": "d1f62913",
   "metadata": {},
   "source": [
    "#### Trainable parameters:\n",
    "\n",
    "\n",
    "For the Wx + b operation in each neuron, W and b are trainable – because they are changed by optimizers after backpropagation was applied for gradient computation. In the model built there are (235,146) trainable parameters"
   ]
  },
  {
   "cell_type": "markdown",
   "id": "865e2952",
   "metadata": {},
   "source": [
    "#### Non-trainable paramters:\n",
    "\n",
    "Non-trainable parameters are the ones that are not trained using gradient descent. Here if we include a BatchNormalization layer, the non trainable variables can be identified."
   ]
  },
  {
   "cell_type": "code",
   "execution_count": null,
   "id": "e349a8b5",
   "metadata": {},
   "outputs": [],
   "source": []
  },
  {
   "cell_type": "markdown",
   "id": "6964f23f",
   "metadata": {},
   "source": [
    "#### Predictions"
   ]
  },
  {
   "cell_type": "code",
   "execution_count": 17,
   "id": "2eb2f2be",
   "metadata": {},
   "outputs": [],
   "source": [
    "from sklearn.metrics import classification_report,accuracy_score\n"
   ]
  },
  {
   "cell_type": "code",
   "execution_count": 18,
   "id": "12eec183",
   "metadata": {},
   "outputs": [
    {
     "data": {
      "text/plain": [
       "array([[3.6092628e-05, 8.7269973e-06, 8.2079559e-06, ..., 1.8577361e-01,\n",
       "        2.1229107e-03, 7.1119457e-01],\n",
       "       [1.0034205e-04, 2.7709393e-06, 9.6019000e-01, ..., 3.1955755e-10,\n",
       "        3.4899032e-05, 1.5644649e-09],\n",
       "       [2.3614706e-05, 9.9994922e-01, 3.2879125e-06, ..., 1.5409392e-09,\n",
       "        4.2585302e-07, 7.3689960e-10],\n",
       "       ...,\n",
       "       [5.5366743e-02, 2.5820107e-05, 1.5580966e-03, ..., 3.0297934e-04,\n",
       "        8.7525004e-01, 1.1558981e-05],\n",
       "       [1.9549798e-05, 9.9866664e-01, 3.1066153e-05, ..., 2.0486547e-07,\n",
       "        1.4710587e-06, 1.6977895e-06],\n",
       "       [5.7806465e-04, 3.2560946e-04, 3.7289108e-04, ..., 3.2295403e-01,\n",
       "        1.7259667e-02, 3.6479358e-02]], dtype=float32)"
      ]
     },
     "execution_count": 18,
     "metadata": {},
     "output_type": "execute_result"
    }
   ],
   "source": [
    "predictions = model.predict(test_images, batch_size=1000)\n",
    "predictions"
   ]
  },
  {
   "cell_type": "code",
   "execution_count": 19,
   "id": "86fa6294",
   "metadata": {},
   "outputs": [
    {
     "data": {
      "text/plain": [
       "43241"
      ]
     },
     "execution_count": 19,
     "metadata": {},
     "output_type": "execute_result"
    }
   ],
   "source": [
    "np.argmax(predictions)"
   ]
  },
  {
   "cell_type": "code",
   "execution_count": 20,
   "id": "1d60feda",
   "metadata": {},
   "outputs": [
    {
     "name": "stdout",
     "output_type": "stream",
     "text": [
      "dict_keys(['loss', 'accuracy', 'val_loss', 'val_accuracy'])\n"
     ]
    }
   ],
   "source": [
    "print(H.history.keys())"
   ]
  },
  {
   "cell_type": "code",
   "execution_count": 44,
   "id": "3b484aab",
   "metadata": {},
   "outputs": [
    {
     "data": {
      "text/html": [
       "<div>\n",
       "<style scoped>\n",
       "    .dataframe tbody tr th:only-of-type {\n",
       "        vertical-align: middle;\n",
       "    }\n",
       "\n",
       "    .dataframe tbody tr th {\n",
       "        vertical-align: top;\n",
       "    }\n",
       "\n",
       "    .dataframe thead th {\n",
       "        text-align: right;\n",
       "    }\n",
       "</style>\n",
       "<table border=\"1\" class=\"dataframe\">\n",
       "  <thead>\n",
       "    <tr style=\"text-align: right;\">\n",
       "      <th></th>\n",
       "      <th>epoch</th>\n",
       "      <th>Training loss</th>\n",
       "      <th>Validation loss</th>\n",
       "    </tr>\n",
       "  </thead>\n",
       "  <tbody>\n",
       "    <tr>\n",
       "      <th>0</th>\n",
       "      <td>0</td>\n",
       "      <td>0.436892</td>\n",
       "      <td>0.419003</td>\n",
       "    </tr>\n",
       "    <tr>\n",
       "      <th>1</th>\n",
       "      <td>1</td>\n",
       "      <td>0.434362</td>\n",
       "      <td>0.417510</td>\n",
       "    </tr>\n",
       "    <tr>\n",
       "      <th>2</th>\n",
       "      <td>2</td>\n",
       "      <td>0.435427</td>\n",
       "      <td>0.416686</td>\n",
       "    </tr>\n",
       "    <tr>\n",
       "      <th>3</th>\n",
       "      <td>3</td>\n",
       "      <td>0.433197</td>\n",
       "      <td>0.417326</td>\n",
       "    </tr>\n",
       "    <tr>\n",
       "      <th>4</th>\n",
       "      <td>4</td>\n",
       "      <td>0.430513</td>\n",
       "      <td>0.415208</td>\n",
       "    </tr>\n",
       "    <tr>\n",
       "      <th>...</th>\n",
       "      <td>...</td>\n",
       "      <td>...</td>\n",
       "      <td>...</td>\n",
       "    </tr>\n",
       "    <tr>\n",
       "      <th>95</th>\n",
       "      <td>95</td>\n",
       "      <td>0.374152</td>\n",
       "      <td>0.370726</td>\n",
       "    </tr>\n",
       "    <tr>\n",
       "      <th>96</th>\n",
       "      <td>96</td>\n",
       "      <td>0.373701</td>\n",
       "      <td>0.370947</td>\n",
       "    </tr>\n",
       "    <tr>\n",
       "      <th>97</th>\n",
       "      <td>97</td>\n",
       "      <td>0.371547</td>\n",
       "      <td>0.369587</td>\n",
       "    </tr>\n",
       "    <tr>\n",
       "      <th>98</th>\n",
       "      <td>98</td>\n",
       "      <td>0.373014</td>\n",
       "      <td>0.369638</td>\n",
       "    </tr>\n",
       "    <tr>\n",
       "      <th>99</th>\n",
       "      <td>99</td>\n",
       "      <td>0.372710</td>\n",
       "      <td>0.369407</td>\n",
       "    </tr>\n",
       "  </tbody>\n",
       "</table>\n",
       "<p>100 rows × 3 columns</p>\n",
       "</div>"
      ],
      "text/plain": [
       "    epoch  Training loss  Validation loss\n",
       "0       0       0.436892         0.419003\n",
       "1       1       0.434362         0.417510\n",
       "2       2       0.435427         0.416686\n",
       "3       3       0.433197         0.417326\n",
       "4       4       0.430513         0.415208\n",
       "..    ...            ...              ...\n",
       "95     95       0.374152         0.370726\n",
       "96     96       0.373701         0.370947\n",
       "97     97       0.371547         0.369587\n",
       "98     98       0.373014         0.369638\n",
       "99     99       0.372710         0.369407\n",
       "\n",
       "[100 rows x 3 columns]"
      ]
     },
     "execution_count": 44,
     "metadata": {},
     "output_type": "execute_result"
    }
   ],
   "source": [
    "import pandas as pd\n",
    "\n",
    "loss=history.history['loss']\n",
    "val_loss=history.history['val_loss']\n",
    "loss=history.history['loss']\n",
    "val_loss=history.history['val_loss']\n",
    "dic={'Training loss':loss,'Validation loss':val_loss}\n",
    "\n",
    "l=pd.DataFrame(dic)\n",
    "l['epoch']=l.index\n",
    "l=l[['epoch','Training loss','Validation loss']]\n",
    "l"
   ]
  },
  {
   "cell_type": "code",
   "execution_count": 21,
   "id": "568edd02",
   "metadata": {},
   "outputs": [
    {
     "data": {
      "text/plain": [
       "Text(0, 0.5, 'Loss')"
      ]
     },
     "execution_count": 21,
     "metadata": {},
     "output_type": "execute_result"
    },
    {
     "data": {
      "image/png": "[encoded data removed]",
      "text/plain": [
       "<Figure size 432x288 with 1 Axes>"
      ]
     },
     "metadata": {},
     "output_type": "display_data"
    }
   ],
   "source": [
    "plt.style.use(\"ggplot\")\n",
    "plt.figure()\n",
    "plt.plot(np.arange(0, 100), H.history[\"loss\"], label=\"train_loss\")\n",
    "plt.plot(np.arange(0, 100), H.history[\"val_loss\"], label=\"val_loss\")\n",
    "\n",
    "plt.title(\"Training Loss\")\n",
    "plt.xlabel(\"Epoch \")\n",
    "plt.ylabel(\"Loss\")"
   ]
  },
  {
   "cell_type": "code",
   "execution_count": 22,
   "id": "8060542e",
   "metadata": {},
   "outputs": [
    {
     "data": {
      "text/plain": [
       "Text(0, 0.5, 'Loss')"
      ]
     },
     "execution_count": 22,
     "metadata": {},
     "output_type": "execute_result"
    },
    {
     "data": {
      "image/png": "[encoded data removed]",
      "text/plain": [
       "<Figure size 432x288 with 1 Axes>"
      ]
     },
     "metadata": {},
     "output_type": "display_data"
    }
   ],
   "source": [
    "plt.style.use(\"ggplot\")\n",
    "plt.figure()\n",
    "plt.plot(np.arange(0, 100), H.history[\"accuracy\"], label=\"train_loss\")\n",
    "plt.plot(np.arange(0, 100), H.history[\"val_accuracy\"], label=\"val_loss\")\n",
    "\n",
    "plt.title(\"Training Loss\")\n",
    "plt.xlabel(\"Epoch \")\n",
    "plt.ylabel(\"Loss\")"
   ]
  },
  {
   "cell_type": "markdown",
   "id": "c19179a9",
   "metadata": {},
   "source": [
    "We can see that there is a possibility that the model is overfitted. From the above graph since both the values of accuracy are \n",
    "overlapping each other, we came to this conclusion.\n"
   ]
  },
  {
   "cell_type": "markdown",
   "id": "f8f6be93",
   "metadata": {},
   "source": [
    "#### Treating the problem of Overfitting"
   ]
  },
  {
   "cell_type": "code",
   "execution_count": 23,
   "id": "8ab1c260",
   "metadata": {},
   "outputs": [],
   "source": [
    "from tensorflow.keras.optimizers import SGD\n",
    "from tensorflow.keras.layers import Dropout\n",
    "from keras.layers.core import Dense,Flatten "
   ]
  },
  {
   "cell_type": "code",
   "execution_count": 24,
   "id": "aaff13a7",
   "metadata": {},
   "outputs": [],
   "source": [
    "model = Sequential()\n",
    "model.add(Dense(256, input_shape=(784,), activation=\"relu\"))\n",
    "model.add(Dense(128, activation=\"relu\"))\n",
    "\n",
    "#flattening the input\n",
    "model.add(Flatten())\n",
    "\n",
    "#adding dropout layer \n",
    "model.add(Dropout(0.2, seed= 100))\n",
    "\n",
    "model.add(Dense(10, activation=\"softmax\"))"
   ]
  },
  {
   "cell_type": "code",
   "execution_count": 26,
   "id": "1df9f6bf",
   "metadata": {},
   "outputs": [],
   "source": [
    "#optimizing the model\n",
    "\n",
    "sgd = SGD(learning_rate=0.01)\n",
    "\n",
    "model.compile(loss='categorical_crossentropy',\n",
    "             metrics=['accuracy'],\n",
    "             optimizer=sgd)"
   ]
  },
  {
   "cell_type": "code",
   "execution_count": 39,
   "id": "f442bb73",
   "metadata": {},
   "outputs": [
    {
     "name": "stdout",
     "output_type": "stream",
     "text": [
      "Epoch 1/100\n",
      "54/54 [==============================] - 1s 9ms/step - loss: 0.3658 - accuracy: 0.8711 - val_loss: 0.3657 - val_accuracy: 0.8685\n",
      "Epoch 2/100\n",
      "54/54 [==============================] - 1s 10ms/step - loss: 0.3680 - accuracy: 0.8705 - val_loss: 0.3652 - val_accuracy: 0.8690\n",
      "Epoch 3/100\n",
      "54/54 [==============================] - 1s 10ms/step - loss: 0.3665 - accuracy: 0.8712 - val_loss: 0.3650 - val_accuracy: 0.8688\n",
      "Epoch 4/100\n",
      "54/54 [==============================] - 1s 16ms/step - loss: 0.3657 - accuracy: 0.8708 - val_loss: 0.3645 - val_accuracy: 0.8688\n",
      "Epoch 5/100\n",
      "54/54 [==============================] - 0s 9ms/step - loss: 0.3650 - accuracy: 0.8716 - val_loss: 0.3646 - val_accuracy: 0.8687\n",
      "Epoch 6/100\n",
      "54/54 [==============================] - 1s 16ms/step - loss: 0.3643 - accuracy: 0.8718 - val_loss: 0.3649 - val_accuracy: 0.8685\n",
      "Epoch 7/100\n",
      "54/54 [==============================] - 1s 14ms/step - loss: 0.3647 - accuracy: 0.8728 - val_loss: 0.3638 - val_accuracy: 0.8695\n",
      "Epoch 8/100\n",
      "54/54 [==============================] - 1s 13ms/step - loss: 0.3653 - accuracy: 0.8709 - val_loss: 0.3646 - val_accuracy: 0.8673\n",
      "Epoch 9/100\n",
      "54/54 [==============================] - 1s 12ms/step - loss: 0.3639 - accuracy: 0.8733 - val_loss: 0.3654 - val_accuracy: 0.8678\n",
      "Epoch 10/100\n",
      "54/54 [==============================] - 1s 11ms/step - loss: 0.3643 - accuracy: 0.8721 - val_loss: 0.3634 - val_accuracy: 0.8685\n",
      "Epoch 11/100\n",
      "54/54 [==============================] - 1s 10ms/step - loss: 0.3637 - accuracy: 0.8712 - val_loss: 0.3637 - val_accuracy: 0.8692\n",
      "Epoch 12/100\n",
      "54/54 [==============================] - 1s 11ms/step - loss: 0.3630 - accuracy: 0.8713 - val_loss: 0.3626 - val_accuracy: 0.8697\n",
      "Epoch 13/100\n",
      "54/54 [==============================] - 1s 13ms/step - loss: 0.3632 - accuracy: 0.8710 - val_loss: 0.3624 - val_accuracy: 0.8697\n",
      "Epoch 14/100\n",
      "54/54 [==============================] - 1s 13ms/step - loss: 0.3619 - accuracy: 0.8719 - val_loss: 0.3617 - val_accuracy: 0.8693\n",
      "Epoch 15/100\n",
      "54/54 [==============================] - 1s 18ms/step - loss: 0.3590 - accuracy: 0.8732 - val_loss: 0.3623 - val_accuracy: 0.8682\n",
      "Epoch 16/100\n",
      "54/54 [==============================] - 1s 10ms/step - loss: 0.3607 - accuracy: 0.8719 - val_loss: 0.3619 - val_accuracy: 0.8687\n",
      "Epoch 17/100\n",
      "54/54 [==============================] - 1s 10ms/step - loss: 0.3613 - accuracy: 0.8730 - val_loss: 0.3611 - val_accuracy: 0.8692\n",
      "Epoch 18/100\n",
      "54/54 [==============================] - 1s 13ms/step - loss: 0.3607 - accuracy: 0.8728 - val_loss: 0.3613 - val_accuracy: 0.8702\n",
      "Epoch 19/100\n",
      "54/54 [==============================] - 1s 15ms/step - loss: 0.3594 - accuracy: 0.8730 - val_loss: 0.3611 - val_accuracy: 0.8692\n",
      "Epoch 20/100\n",
      "54/54 [==============================] - 1s 16ms/step - loss: 0.3606 - accuracy: 0.8734 - val_loss: 0.3609 - val_accuracy: 0.8695\n",
      "Epoch 21/100\n",
      "54/54 [==============================] - 1s 14ms/step - loss: 0.3584 - accuracy: 0.8739 - val_loss: 0.3605 - val_accuracy: 0.8690\n",
      "Epoch 22/100\n",
      "54/54 [==============================] - 1s 14ms/step - loss: 0.3590 - accuracy: 0.8733 - val_loss: 0.3593 - val_accuracy: 0.8697\n",
      "Epoch 23/100\n",
      "54/54 [==============================] - 1s 11ms/step - loss: 0.3583 - accuracy: 0.8737 - val_loss: 0.3597 - val_accuracy: 0.8683\n",
      "Epoch 24/100\n",
      "54/54 [==============================] - 1s 14ms/step - loss: 0.3569 - accuracy: 0.8750 - val_loss: 0.3599 - val_accuracy: 0.8693\n",
      "Epoch 25/100\n",
      "54/54 [==============================] - 1s 10ms/step - loss: 0.3573 - accuracy: 0.8728 - val_loss: 0.3597 - val_accuracy: 0.8690\n",
      "Epoch 26/100\n",
      "54/54 [==============================] - 1s 11ms/step - loss: 0.3568 - accuracy: 0.8755 - val_loss: 0.3587 - val_accuracy: 0.8688\n",
      "Epoch 27/100\n",
      "54/54 [==============================] - 1s 13ms/step - loss: 0.3559 - accuracy: 0.8739 - val_loss: 0.3593 - val_accuracy: 0.8687\n",
      "Epoch 28/100\n",
      "54/54 [==============================] - 1s 10ms/step - loss: 0.3565 - accuracy: 0.8750 - val_loss: 0.3590 - val_accuracy: 0.8680\n",
      "Epoch 29/100\n",
      "54/54 [==============================] - 1s 10ms/step - loss: 0.3566 - accuracy: 0.8745 - val_loss: 0.3595 - val_accuracy: 0.8695\n",
      "Epoch 30/100\n",
      "54/54 [==============================] - 1s 16ms/step - loss: 0.3563 - accuracy: 0.8750 - val_loss: 0.3581 - val_accuracy: 0.8693\n",
      "Epoch 31/100\n",
      "54/54 [==============================] - 1s 10ms/step - loss: 0.3550 - accuracy: 0.8755 - val_loss: 0.3583 - val_accuracy: 0.8692\n",
      "Epoch 32/100\n",
      "54/54 [==============================] - 1s 12ms/step - loss: 0.3536 - accuracy: 0.8758 - val_loss: 0.3573 - val_accuracy: 0.8697\n",
      "Epoch 33/100\n",
      "54/54 [==============================] - 1s 10ms/step - loss: 0.3557 - accuracy: 0.8746 - val_loss: 0.3572 - val_accuracy: 0.8700\n",
      "Epoch 34/100\n",
      "54/54 [==============================] - 1s 11ms/step - loss: 0.3554 - accuracy: 0.8739 - val_loss: 0.3573 - val_accuracy: 0.8697\n",
      "Epoch 35/100\n",
      "54/54 [==============================] - 1s 14ms/step - loss: 0.3531 - accuracy: 0.8759 - val_loss: 0.3574 - val_accuracy: 0.8702\n",
      "Epoch 36/100\n",
      "54/54 [==============================] - 1s 10ms/step - loss: 0.3534 - accuracy: 0.8750 - val_loss: 0.3569 - val_accuracy: 0.8695\n",
      "Epoch 37/100\n",
      "54/54 [==============================] - 1s 11ms/step - loss: 0.3532 - accuracy: 0.8747 - val_loss: 0.3564 - val_accuracy: 0.8703\n",
      "Epoch 38/100\n",
      "54/54 [==============================] - 1s 9ms/step - loss: 0.3533 - accuracy: 0.8755 - val_loss: 0.3563 - val_accuracy: 0.8697\n",
      "Epoch 39/100\n",
      "54/54 [==============================] - 0s 9ms/step - loss: 0.3529 - accuracy: 0.8752 - val_loss: 0.3565 - val_accuracy: 0.8695\n",
      "Epoch 40/100\n",
      "54/54 [==============================] - 0s 9ms/step - loss: 0.3532 - accuracy: 0.8752 - val_loss: 0.3569 - val_accuracy: 0.8690\n",
      "Epoch 41/100\n",
      "54/54 [==============================] - 0s 9ms/step - loss: 0.3528 - accuracy: 0.8747 - val_loss: 0.3561 - val_accuracy: 0.8698\n",
      "Epoch 42/100\n",
      "54/54 [==============================] - 1s 10ms/step - loss: 0.3507 - accuracy: 0.8771 - val_loss: 0.3556 - val_accuracy: 0.8710\n",
      "Epoch 43/100\n",
      "54/54 [==============================] - 1s 12ms/step - loss: 0.3540 - accuracy: 0.8757 - val_loss: 0.3557 - val_accuracy: 0.8705\n",
      "Epoch 44/100\n",
      "54/54 [==============================] - 1s 10ms/step - loss: 0.3502 - accuracy: 0.8771 - val_loss: 0.3548 - val_accuracy: 0.8707\n",
      "Epoch 45/100\n",
      "54/54 [==============================] - 1s 11ms/step - loss: 0.3510 - accuracy: 0.8756 - val_loss: 0.3549 - val_accuracy: 0.8715\n",
      "Epoch 46/100\n",
      "54/54 [==============================] - 1s 11ms/step - loss: 0.3495 - accuracy: 0.8768 - val_loss: 0.3555 - val_accuracy: 0.8705\n",
      "Epoch 47/100\n",
      "54/54 [==============================] - 1s 15ms/step - loss: 0.3503 - accuracy: 0.8766 - val_loss: 0.3551 - val_accuracy: 0.8695\n",
      "Epoch 48/100\n",
      "54/54 [==============================] - 1s 12ms/step - loss: 0.3494 - accuracy: 0.8768 - val_loss: 0.3544 - val_accuracy: 0.8718\n",
      "Epoch 49/100\n",
      "54/54 [==============================] - 1s 15ms/step - loss: 0.3488 - accuracy: 0.8769 - val_loss: 0.3542 - val_accuracy: 0.8697\n",
      "Epoch 50/100\n",
      "54/54 [==============================] - 1s 10ms/step - loss: 0.3484 - accuracy: 0.8762 - val_loss: 0.3547 - val_accuracy: 0.8720\n",
      "Epoch 51/100\n",
      "54/54 [==============================] - 1s 17ms/step - loss: 0.3482 - accuracy: 0.8771 - val_loss: 0.3538 - val_accuracy: 0.8722\n",
      "Epoch 52/100\n",
      "54/54 [==============================] - 1s 16ms/step - loss: 0.3485 - accuracy: 0.8764 - val_loss: 0.3533 - val_accuracy: 0.8722\n",
      "Epoch 53/100\n",
      "54/54 [==============================] - 1s 13ms/step - loss: 0.3486 - accuracy: 0.8770 - val_loss: 0.3535 - val_accuracy: 0.8707\n",
      "Epoch 54/100\n",
      "54/54 [==============================] - 1s 9ms/step - loss: 0.3461 - accuracy: 0.8771 - val_loss: 0.3527 - val_accuracy: 0.8718\n",
      "Epoch 55/100\n",
      "54/54 [==============================] - 1s 10ms/step - loss: 0.3482 - accuracy: 0.8778 - val_loss: 0.3524 - val_accuracy: 0.8715\n",
      "Epoch 56/100\n",
      "54/54 [==============================] - 1s 10ms/step - loss: 0.3478 - accuracy: 0.8779 - val_loss: 0.3526 - val_accuracy: 0.8712\n",
      "Epoch 57/100\n",
      "54/54 [==============================] - 1s 10ms/step - loss: 0.3469 - accuracy: 0.8774 - val_loss: 0.3531 - val_accuracy: 0.8708\n",
      "Epoch 58/100\n",
      "54/54 [==============================] - 1s 9ms/step - loss: 0.3453 - accuracy: 0.8788 - val_loss: 0.3524 - val_accuracy: 0.8722\n",
      "Epoch 59/100\n",
      "54/54 [==============================] - 1s 10ms/step - loss: 0.3455 - accuracy: 0.8778 - val_loss: 0.3515 - val_accuracy: 0.8725\n",
      "Epoch 60/100\n",
      "54/54 [==============================] - 1s 10ms/step - loss: 0.3459 - accuracy: 0.8781 - val_loss: 0.3520 - val_accuracy: 0.8735\n",
      "Epoch 61/100\n",
      "54/54 [==============================] - 1s 10ms/step - loss: 0.3454 - accuracy: 0.8788 - val_loss: 0.3505 - val_accuracy: 0.8733\n",
      "Epoch 62/100\n",
      "54/54 [==============================] - 1s 10ms/step - loss: 0.3455 - accuracy: 0.8778 - val_loss: 0.3511 - val_accuracy: 0.8715\n",
      "Epoch 63/100\n",
      "54/54 [==============================] - 1s 10ms/step - loss: 0.3443 - accuracy: 0.8793 - val_loss: 0.3508 - val_accuracy: 0.8718\n",
      "Epoch 64/100\n",
      "54/54 [==============================] - 1s 10ms/step - loss: 0.3451 - accuracy: 0.8781 - val_loss: 0.3507 - val_accuracy: 0.8728\n",
      "Epoch 65/100\n",
      "54/54 [==============================] - 1s 11ms/step - loss: 0.3452 - accuracy: 0.8779 - val_loss: 0.3513 - val_accuracy: 0.8722\n",
      "Epoch 66/100\n",
      "54/54 [==============================] - 1s 9ms/step - loss: 0.3457 - accuracy: 0.8778 - val_loss: 0.3509 - val_accuracy: 0.8718\n",
      "Epoch 67/100\n",
      "54/54 [==============================] - 1s 9ms/step - loss: 0.3445 - accuracy: 0.8781 - val_loss: 0.3497 - val_accuracy: 0.8730\n",
      "Epoch 68/100\n",
      "54/54 [==============================] - 1s 10ms/step - loss: 0.3434 - accuracy: 0.8793 - val_loss: 0.3500 - val_accuracy: 0.8715\n",
      "Epoch 69/100\n",
      "54/54 [==============================] - 1s 9ms/step - loss: 0.3440 - accuracy: 0.8790 - val_loss: 0.3505 - val_accuracy: 0.8727\n",
      "Epoch 70/100\n",
      "54/54 [==============================] - 1s 10ms/step - loss: 0.3433 - accuracy: 0.8794 - val_loss: 0.3505 - val_accuracy: 0.8738\n",
      "Epoch 71/100\n",
      "54/54 [==============================] - 1s 10ms/step - loss: 0.3425 - accuracy: 0.8801 - val_loss: 0.3489 - val_accuracy: 0.8722\n",
      "Epoch 72/100\n",
      "54/54 [==============================] - 1s 10ms/step - loss: 0.3429 - accuracy: 0.8799 - val_loss: 0.3493 - val_accuracy: 0.8737\n",
      "Epoch 73/100\n",
      "54/54 [==============================] - 1s 11ms/step - loss: 0.3419 - accuracy: 0.8804 - val_loss: 0.3507 - val_accuracy: 0.8720\n",
      "Epoch 74/100\n",
      "54/54 [==============================] - 1s 17ms/step - loss: 0.3420 - accuracy: 0.8797 - val_loss: 0.3493 - val_accuracy: 0.8732\n",
      "Epoch 75/100\n",
      "54/54 [==============================] - 1s 16ms/step - loss: 0.3418 - accuracy: 0.8804 - val_loss: 0.3483 - val_accuracy: 0.8727\n",
      "Epoch 76/100\n",
      "54/54 [==============================] - 1s 14ms/step - loss: 0.3416 - accuracy: 0.8787 - val_loss: 0.3487 - val_accuracy: 0.8728\n",
      "Epoch 77/100\n",
      "54/54 [==============================] - 1s 10ms/step - loss: 0.3416 - accuracy: 0.8795 - val_loss: 0.3481 - val_accuracy: 0.8735\n",
      "Epoch 78/100\n",
      "54/54 [==============================] - 1s 18ms/step - loss: 0.3421 - accuracy: 0.8790 - val_loss: 0.3481 - val_accuracy: 0.8732\n",
      "Epoch 79/100\n",
      "54/54 [==============================] - 1s 14ms/step - loss: 0.3400 - accuracy: 0.8805 - val_loss: 0.3485 - val_accuracy: 0.8735\n",
      "Epoch 80/100\n",
      "54/54 [==============================] - 1s 13ms/step - loss: 0.3400 - accuracy: 0.8800 - val_loss: 0.3484 - val_accuracy: 0.8727\n",
      "Epoch 81/100\n",
      "54/54 [==============================] - 1s 13ms/step - loss: 0.3390 - accuracy: 0.8803 - val_loss: 0.3474 - val_accuracy: 0.8732\n",
      "Epoch 82/100\n",
      "54/54 [==============================] - 1s 15ms/step - loss: 0.3395 - accuracy: 0.8801 - val_loss: 0.3474 - val_accuracy: 0.8735\n",
      "Epoch 83/100\n",
      "54/54 [==============================] - 1s 13ms/step - loss: 0.3389 - accuracy: 0.8807 - val_loss: 0.3473 - val_accuracy: 0.8737\n",
      "Epoch 84/100\n",
      "54/54 [==============================] - 1s 12ms/step - loss: 0.3393 - accuracy: 0.8804 - val_loss: 0.3477 - val_accuracy: 0.8738\n",
      "Epoch 85/100\n",
      "54/54 [==============================] - 1s 11ms/step - loss: 0.3386 - accuracy: 0.8806 - val_loss: 0.3473 - val_accuracy: 0.8748\n",
      "Epoch 86/100\n",
      "54/54 [==============================] - 1s 12ms/step - loss: 0.3387 - accuracy: 0.8802 - val_loss: 0.3476 - val_accuracy: 0.8713\n",
      "Epoch 87/100\n",
      "54/54 [==============================] - 1s 11ms/step - loss: 0.3383 - accuracy: 0.8807 - val_loss: 0.3460 - val_accuracy: 0.8738\n",
      "Epoch 88/100\n",
      "54/54 [==============================] - 1s 10ms/step - loss: 0.3380 - accuracy: 0.8818 - val_loss: 0.3464 - val_accuracy: 0.8740\n",
      "Epoch 89/100\n",
      "54/54 [==============================] - 1s 11ms/step - loss: 0.3375 - accuracy: 0.8810 - val_loss: 0.3465 - val_accuracy: 0.8733\n",
      "Epoch 90/100\n",
      "54/54 [==============================] - 1s 10ms/step - loss: 0.3367 - accuracy: 0.8810 - val_loss: 0.3466 - val_accuracy: 0.8737\n",
      "Epoch 91/100\n",
      "54/54 [==============================] - 1s 11ms/step - loss: 0.3363 - accuracy: 0.8817 - val_loss: 0.3459 - val_accuracy: 0.8742\n",
      "Epoch 92/100\n",
      "54/54 [==============================] - 1s 10ms/step - loss: 0.3375 - accuracy: 0.8808 - val_loss: 0.3456 - val_accuracy: 0.8745\n",
      "Epoch 93/100\n",
      "54/54 [==============================] - 1s 12ms/step - loss: 0.3350 - accuracy: 0.8823 - val_loss: 0.3458 - val_accuracy: 0.8753\n",
      "Epoch 94/100\n",
      "54/54 [==============================] - 1s 12ms/step - loss: 0.3371 - accuracy: 0.8813 - val_loss: 0.3452 - val_accuracy: 0.8732\n",
      "Epoch 95/100\n",
      "54/54 [==============================] - 1s 11ms/step - loss: 0.3351 - accuracy: 0.8823 - val_loss: 0.3447 - val_accuracy: 0.8740\n",
      "Epoch 96/100\n",
      "54/54 [==============================] - 1s 12ms/step - loss: 0.3358 - accuracy: 0.8821 - val_loss: 0.3453 - val_accuracy: 0.8742\n",
      "Epoch 97/100\n",
      "54/54 [==============================] - 1s 12ms/step - loss: 0.3371 - accuracy: 0.8808 - val_loss: 0.3453 - val_accuracy: 0.8752\n",
      "Epoch 98/100\n",
      "54/54 [==============================] - 1s 12ms/step - loss: 0.3357 - accuracy: 0.8824 - val_loss: 0.3460 - val_accuracy: 0.8750\n",
      "Epoch 99/100\n",
      "54/54 [==============================] - 1s 11ms/step - loss: 0.3347 - accuracy: 0.8820 - val_loss: 0.3443 - val_accuracy: 0.8757\n",
      "Epoch 100/100\n",
      "54/54 [==============================] - 1s 11ms/step - loss: 0.3347 - accuracy: 0.8825 - val_loss: 0.3445 - val_accuracy: 0.8752\n"
     ]
    }
   ],
   "source": [
    "History = model.fit(train_images, train_labels,epochs=100, batch_size=1000,validation_split= 0.10)"
   ]
  },
  {
   "cell_type": "code",
   "execution_count": 29,
   "id": "256aa594",
   "metadata": {},
   "outputs": [
    {
     "name": "stdout",
     "output_type": "stream",
     "text": [
      "Model: \"sequential_1\"\n",
      "_________________________________________________________________\n",
      "Layer (type)                 Output Shape              Param #   \n",
      "=================================================================\n",
      "dense_3 (Dense)              (None, 256)               200960    \n",
      "_________________________________________________________________\n",
      "dense_4 (Dense)              (None, 128)               32896     \n",
      "_________________________________________________________________\n",
      "flatten (Flatten)            (None, 128)               0         \n",
      "_________________________________________________________________\n",
      "dropout (Dropout)            (None, 128)               0         \n",
      "_________________________________________________________________\n",
      "dense_5 (Dense)              (None, 10)                1290      \n",
      "=================================================================\n",
      "Total params: 235,146\n",
      "Trainable params: 235,146\n",
      "Non-trainable params: 0\n",
      "_________________________________________________________________\n"
     ]
    }
   ],
   "source": [
    "model.summary()"
   ]
  },
  {
   "cell_type": "code",
   "execution_count": 30,
   "id": "2fc57f82",
   "metadata": {},
   "outputs": [
    {
     "data": {
      "text/plain": [
       "array([[7.5363474e-05, 1.1938235e-04, 1.6782295e-04, ..., 1.6392329e-01,\n",
       "        2.0718526e-03, 7.2445881e-01],\n",
       "       [1.2911345e-04, 2.8977920e-06, 9.7554249e-01, ..., 4.9495821e-09,\n",
       "        1.9429574e-05, 1.0530798e-08],\n",
       "       [4.5866891e-05, 9.9992085e-01, 5.6329363e-06, ..., 3.7348791e-08,\n",
       "        1.3607156e-08, 6.5065365e-08],\n",
       "       ...,\n",
       "       [9.6883820e-03, 8.7261351e-06, 4.4158418e-04, ..., 7.8836361e-05,\n",
       "        9.6779519e-01, 2.2238173e-05],\n",
       "       [7.2025978e-05, 9.9912864e-01, 5.4879300e-05, ..., 1.9097811e-06,\n",
       "        6.8936475e-07, 2.0749556e-05],\n",
       "       [5.6699297e-04, 7.2269276e-04, 1.8963716e-03, ..., 1.3174894e-01,\n",
       "        1.0408274e-02, 9.2016868e-03]], dtype=float32)"
      ]
     },
     "execution_count": 30,
     "metadata": {},
     "output_type": "execute_result"
    }
   ],
   "source": [
    "predictions = model.predict(test_images, batch_size=1000)\n",
    "predictions"
   ]
  },
  {
   "cell_type": "code",
   "execution_count": 41,
   "id": "bfc0a3cf",
   "metadata": {},
   "outputs": [
    {
     "data": {
      "text/plain": [
       "Text(0, 0.5, 'Loss')"
      ]
     },
     "execution_count": 41,
     "metadata": {},
     "output_type": "execute_result"
    },
    {
     "data": {
      "image/png": "[encoded data removed]",
      "text/plain": [
       "<Figure size 432x288 with 1 Axes>"
      ]
     },
     "metadata": {},
     "output_type": "display_data"
    }
   ],
   "source": [
    "plt.style.use(\"ggplot\")\n",
    "plt.figure()\n",
    "plt.plot(np.arange(0, 100), H.history[\"loss\"], label=\"train_loss\")\n",
    "plt.plot(np.arange(0, 100), H.history[\"val_loss\"], label=\"val_loss\")\n",
    "\n",
    "plt.title(\"Training Loss\")\n",
    "plt.xlabel(\"Epoch \")\n",
    "plt.ylabel(\"Loss\")"
   ]
  },
  {
   "cell_type": "code",
   "execution_count": 32,
   "id": "1de3b1f0",
   "metadata": {},
   "outputs": [
    {
     "data": {
      "text/plain": [
       "Text(0, 0.5, 'Loss')"
      ]
     },
     "execution_count": 32,
     "metadata": {},
     "output_type": "execute_result"
    },
    {
     "data": {
      "image/png": "[encoded data removed]",
      "text/plain": [
       "<Figure size 432x288 with 1 Axes>"
      ]
     },
     "metadata": {},
     "output_type": "display_data"
    }
   ],
   "source": [
    "plt.style.use(\"ggplot\")\n",
    "plt.figure()\n",
    "plt.plot(np.arange(0, 100), H.history[\"accuracy\"], label=\"train_loss\")\n",
    "plt.plot(np.arange(0, 100), H.history[\"val_accuracy\"], label=\"val_loss\")\n",
    "\n",
    "plt.title(\"Training Loss\")\n",
    "plt.xlabel(\"Epoch \")\n",
    "plt.ylabel(\"Loss\")"
   ]
  },
  {
   "cell_type": "code",
   "execution_count": null,
   "id": "097017c2",
   "metadata": {},
   "outputs": [],
   "source": []
  },
  {
   "cell_type": "code",
   "execution_count": null,
   "id": "c0d16092",
   "metadata": {},
   "outputs": [],
   "source": []
  },
  {
   "cell_type": "code",
   "execution_count": null,
   "id": "17b7913a",
   "metadata": {},
   "outputs": [],
   "source": []
  }
 ],
 "metadata": {
  "kernelspec": {
   "display_name": "Python 3",
   "language": "python",
   "name": "python3"
  },
  "language_info": {
   "codemirror_mode": {
    "name": "ipython",
    "version": 3
   },
   "file_extension": ".py",
   "mimetype": "text/x-python",
   "name": "python",
   "nbconvert_exporter": "python",
   "pygments_lexer": "ipython3",
   "version": "3.8.8"
  }
 },
 "nbformat": 4,
 "nbformat_minor": 5
}
